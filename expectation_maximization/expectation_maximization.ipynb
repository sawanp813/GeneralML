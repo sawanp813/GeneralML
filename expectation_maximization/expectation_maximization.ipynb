{
 "cells": [
  {
   "cell_type": "markdown",
   "metadata": {},
   "source": [
    "# Univariate Gaussian MLE\n",
    "\n",
    "## Problem Statement\n",
    "\n",
    "I have $n=100$ pieces of indepdendent and identicially distrubuted (i.i.d) data related to some measurement that is drawn from a **normal distribution**.\n",
    "\n",
    "Task: Compute $\\mu_{MLE}$ and $\\sigma_{MLE}$, which represent the mean and standard deviation computed via MLE, respectively, of the underlying normal distribution for the dataset \"MLE_dataset.npy\"\n",
    "\n",
    "## Variable Definitions\n",
    "\n",
    "1. x = collection of data points ($x_1,x_2,...,x_n$). Loaded in as a numpy array of shape (100,)\n",
    "2. $\\mu$ = mean of the normal distribution\n",
    "3. $\\sigma$ = standard deviation of the normal distribution\n",
    "\n",
    "## Dataset\n",
    "\n",
    "1. You are given \"MLE_dataset.npy\" which contains the aforementioned data in the form of a numpy array.\n",
    "\n",
    "3. We assume for a single piece of data, $x_i$, the data is drawn from a normal distribution, and the likelihood of that data given a normal distribution with parameterized by $\\mu$ and $\\sigma^2$ can be represented as:\n",
    "\n",
    "$$p(x_i | \\mu, \\sigma^2) = \\mathcal{N}(x_i; \\mu, \\sigma^2) = \\frac{1}{\\sqrt{2\\pi\\sigma^2}} * \\text{exp} \\ [-\\frac{1}{2}(\\frac{x_i - \\mu}{\\sigma})^2]$$\n",
    "\n",
    "4. There are $n=100$ observations. Because the observations are **independent** (or we assume them to be, at least), we can represent our likelihood function for all observations as the product of the individual observations:\n",
    "\n",
    "$$p(x | \\mu, \\sigma^2) = \\Pi_{i=1}^N \\mathcal{N}(x_i; \\mu, \\sigma^2) = (\\frac{1}{2\\pi\\sigma^2})^{n/2} * \\text{exp} \\ [-\\frac{1}{2}\\sum_{i=1}^N (\\frac{x_i - \\mu}{\\sigma})^2]$$\n",
    "\n",
    "## MLE estimates for $\\mu$ and $\\sigma^2$ \n",
    "\n",
    "$$\\mu_{MLE} = \\frac{1}{n} \\sum_{i=1}^n x_i$$\n",
    "\n",
    "$$ \\sigma^2_{MLE} = \\frac{1}{n} \\sum_{i=1}^n(x_i-\\mu_{MLE})^2$$\n",
    "\n",
    "\n",
    "## Goal\n",
    "\n",
    "Find $\\mu_{MLE}$ and $\\sigma_{MLE}$ for the data set \"MLE_dataset.npy\""
   ]
  },
  {
   "cell_type": "code",
   "execution_count": 8,
   "metadata": {},
   "outputs": [
    {
     "name": "stdout",
     "output_type": "stream",
     "text": [
      "(102.65639598061983, 9.7432536191923)\n",
      "102.65639598061983\n",
      "9.7432536191923\n"
     ]
    }
   ],
   "source": [
    "import scipy.stats\n",
    "import numpy as np\n",
    "\n",
    "\n",
    "def load(path):\n",
    "    '''\n",
    "    loads \"MLE_dataset.npy\" given its path into variable 'dataset'. returns 'dataset'\n",
    "    '''\n",
    "    dataset = np.load(path)\n",
    "    return dataset\n",
    "    \n",
    "def MLE(dataset):\n",
    "    '''\n",
    "    Input:\n",
    "        dataset - numpy array of shape (100,) - containing the data drawn from unknown gaussian\n",
    "        \n",
    "    Output:\n",
    "        mu - float - MLE estimate of mu based on data\n",
    "        sigma - float - MLE estimate of sigma based on data\n",
    "    '''\n",
    "    \n",
    "    mu = 0\n",
    "    sigma = 0\n",
    "    \n",
    "    mu = (1/np.prod(np.shape(dataset)))*np.sum(dataset)\n",
    "    sigma = np.sqrt((1/np.prod(np.shape(dataset)))*np.sum((dataset - mu)**2))\n",
    "    \n",
    "    \n",
    "    return mu, sigma\n",
    "\n",
    "dataset = load(\"./MLE_dataset.npy\")\n",
    "mu_sigma = MLE(dataset)\n",
    "\n",
    "print(mu_sigma)"
   ]
  },
  {
   "cell_type": "markdown",
   "metadata": {},
   "source": [
    "# Univariate Gaussian EM\n",
    "\n",
    "## Problem Statement\n",
    "\n",
    "For this problem, there is a brand new data set consisting of $n=200$ data points. These data points are drawn from **one of two unknown gaussian distributions**.\n",
    "\n",
    "To keep the notation consistent, the subscript ID $k = \\{0,1\\}$ is used to represent which gaussian a parameter/variable is referring to.\n",
    "\n",
    "## Variable definitions\n",
    "\n",
    "1. $k$: id of the gaussian distributions. {0,1} \n",
    "2. $n$: number of data points. 200 in this case\n",
    "3. $\\mu_k$: the mean of normal distribution $k$\n",
    "4. $\\sigma_k$: the std of normal distribution $k$\n",
    "5. $\\pi_k$: the prior probability of normal distribution $k$\n",
    "7. $t$: current step number\n",
    "8. $z_i = k$: represents the idea that i-th data point was drawn from gaussian $k$\n",
    "9. $x_i$: i-th data point\n",
    "\n",
    "## Task Description:\n",
    "\n",
    "**Unknowns:**\n",
    "1. The true means, $\\mu_0$ and $\\mu_1$ for both gaussian distributions\n",
    "2. The true standard deviations, $\\sigma_0$ and $\\sigma_1$ for both gaussian distributions \n",
    "3. Which gaussian distribution, $k=0$ or $k=1$, a point, $x_i$, came from.\n",
    "4. The true fraction of our points that came from gaussian $k=0$ and the true fraction of our points that came from gaussian $k=1$ (the prior probabilities)\n",
    "\n",
    "Goal: implement an algorithm that implements EM and returns the following:\n",
    "\n",
    "1. $\\hat{\\mu_0}, \\hat{\\sigma_0}, \\hat{\\pi_0}$ which represent the final EM estimate the mean, standard deviation (std), and prior of the first gaussian with ID $k=0$\n",
    "2. $\\hat{\\mu_0}, \\hat{\\sigma_0}, \\hat{\\pi_0}$ which represent the final EM estimate of the mean, standard deviation (std), and prior of the first gaussian with ID $k=1$\n",
    "\n",
    "\n",
    "## E - Step\n",
    "$P(z_i = k | x_i, \\theta_k^t)$ reflects the responsibility the k-th gaussian has for the i-th data point\n",
    "$$P(z_i = k | x_i, \\theta_k^t) = \\frac{P(x_i | z_i = k, \\theta_k^t)*\\pi_k^t}{P(x_i | \\theta_k^t)}$$ \\\n",
    "$$= \\frac{P(x_i | z_i = k, \\theta_k^t)*\\pi_k^t}{\\sum_{k=0}^{1}P(x_i | z_i = k, \\theta_k^t)*\\pi_k^t}$$\n",
    "\n",
    "\n",
    "\n",
    "## M - Step\n",
    "\n",
    "\n",
    "$$\\mu_k^{t+1} = \\ ??$$\n",
    "\n",
    "$$\\sigma_k^{t+1} = \\ ??$$\n",
    "\n",
    "$$\\pi_k^{t+1} = \\frac{\\sum_{i=1}^n P(z_i = k | x_i, \\theta_k^t)}{n}$$\n",
    "\n"
   ]
  },
  {
   "cell_type": "markdown",
   "metadata": {},
   "source": [
    "\n",
    "\n",
    "Update rule for $\\mu_k$:\n",
    "\n",
    "$\\mu_k^{t+1}$ = $\\dfrac{\\sum_{i=0}^{n}P(z_i = k|x_i,\\theta_k^t)*x_i}{\\sum_{i=0}^{n}P(z_i = k|x_i,\\theta_k^t)}$\n",
    "\n",
    "\n",
    "Update rule for $\\sigma_k$:\n",
    "\n",
    "$\\sigma_k^{t+1}$ = $\\dfrac{\\sum_{i=0}^{n}P(z_i = k|x_i,\\theta_k^t)*\\sqrt{(x_i-\\mu_k)^2}}{\\sum_{i=0}^{n}P(z_i = k|x_i,\\theta_k^t)}$"
   ]
  },
  {
   "cell_type": "code",
   "execution_count": 30,
   "metadata": {},
   "outputs": [
    {
     "name": "stdout",
     "output_type": "stream",
     "text": [
      "[0.41655257 0.58344743] [100 202] [18 15]\n"
     ]
    },
    {
     "data": {
      "image/png": "[encoded data removed]",
      "text/plain": [
       "<Figure size 432x288 with 1 Axes>"
      ]
     },
     "metadata": {
      "needs_background": "light"
     },
     "output_type": "display_data"
    }
   ],
   "source": [
    "import scipy.stats\n",
    "import numpy as np\n",
    "import matplotlib.pyplot as plt\n",
    "\n",
    "def load(path):\n",
    "    dataset = np.load(path)\n",
    "    return dataset\n",
    "\n",
    "def em(dataset, k, n_iterations):\n",
    "    '''\n",
    "    Input:\n",
    "        dataset - np array - containing the data\n",
    "        k - int - representing the number of underlying gaussian distributions\n",
    "        n_iterations - int - representing number of iterations EM should run for\n",
    "        \n",
    "    output:\n",
    "        mus - np array shape (2,) - mus[k] is the EM estimate of the mean of the kth gaussian\n",
    "        sigmas - np array shape (2,) - sigmas[k] is the EM estimate of the stdev of the kth gaussian\n",
    "        pi - np array shape (2,) - pis[j] is the EM estimate of the prior of the kth gaussian\n",
    "    '''\n",
    "    n_samples = dataset.shape[0]\n",
    "\n",
    "    # Initialization of parameter estimates (will change result/convergence to local maxima)\n",
    "    FINAL_INITIAL_MUS = np.asarray([90, 210]) \n",
    "    FINAL_INITIAL_SIGMAS = np.asarray([28,19]) \n",
    "    FINAL_INITIAL_PIS = np.asarray([0.3,.7]) \n",
    "    pis = FINAL_INITIAL_PIS \n",
    "    mus = FINAL_INITIAL_MUS \n",
    "    sigmas = FINAL_INITIAL_SIGMAS \n",
    "            \n",
    "    for em_iter in (range(n_iterations)):\n",
    "            #E Step\n",
    "\n",
    "            likelihood0 = (scipy.stats.norm(mus[0],sigmas[0]).pdf(dataset)*pis[0])/(scipy.stats.norm(mus[0],sigmas[0]).pdf(dataset)*pis[0] + scipy.stats.norm(mus[1],sigmas[1]).pdf(dataset)*pis[1])\n",
    "            likelihood1 = (scipy.stats.norm(mus[1],sigmas[1]).pdf(dataset)*pis[1])/(scipy.stats.norm(mus[0],sigmas[0]).pdf(dataset)*pis[0] + scipy.stats.norm(mus[1],sigmas[1]).pdf(dataset)*pis[1])\n",
    "            \n",
    "            #M step\n",
    "            pis[0] = sum(likelihood0)/np.prod(np.shape(dataset))\n",
    "            pis[1] = sum(likelihood1)/np.prod(np.shape(dataset))\n",
    "            mus[0] = sum(likelihood0*dataset)/sum(likelihood0)\n",
    "            mus[1] = sum(likelihood1*dataset)/sum(likelihood1)\n",
    "            sigmas[0] = sum(likelihood0*np.sqrt((dataset-mus[0])**2))/sum(likelihood0)\n",
    "            sigmas[1] = sum(likelihood1*np.sqrt((dataset-mus[1])**2))/sum(likelihood1)\n",
    "\n",
    "    return pis, mus, sigmas\n",
    "\n",
    "def main():\n",
    "    \n",
    "    n_iterations = 20 # Number of iterations that E-M algorithm will run \n",
    "    k = 2 # Number of underlying gaussians in dataset\n",
    "                                                                                                                                                  \n",
    "    dataset = np.load(\"EM_dataset.npy\")\n",
    "    pis, mus, sigmas = em(dataset, k, n_iterations)\n",
    "    print(pis, mus, sigmas)\n",
    "    plt.scatter(dataset, np.zeros([1,200]),1)\n",
    "    \n",
    "main()"
   ]
  },
  {
   "cell_type": "code",
   "execution_count": 46,
   "metadata": {},
   "outputs": [
    {
     "name": "stdout",
     "output_type": "stream",
     "text": [
      "0.41655257060864087\n"
     ]
    },
    {
     "data": {
      "text/plain": [
       "<matplotlib.collections.PathCollection at 0x7fc31f74cbe0>"
      ]
     },
     "execution_count": 46,
     "metadata": {},
     "output_type": "execute_result"
    },
    {
     "data": {
      "image/png": "[encoded data removed]",
      "text/plain": [
       "<Figure size 432x288 with 1 Axes>"
      ]
     },
     "metadata": {
      "needs_background": "light"
     },
     "output_type": "display_data"
    }
   ],
   "source": [
    "z = np.zeros(200)\n",
    "dataset = np.load(\"EM_dataset.npy\")\n",
    "pis, mus, sigmas = em(dataset, 2, 20)\n",
    "print(pis[0])\n",
    "for i in range(200):\n",
    "    \n",
    "    flip = np.random.binomial(size=1,n=1,p=pis[0])\n",
    "    if flip == 1:\n",
    "        z[i] = np.random.normal(mus[0],sigmas[0],1)\n",
    "    else:\n",
    "        z[i] = np.random.normal(mus[1],sigmas[1],1)\n",
    "\n",
    "plt.scatter(z, np.zeros([1,200]),1)"
   ]
  },
  {
   "cell_type": "code",
   "execution_count": null,
   "metadata": {},
   "outputs": [],
   "source": []
  }
 ],
 "metadata": {
  "kernelspec": {
   "display_name": "Python 3",
   "language": "python",
   "name": "python3"
  },
  "language_info": {
   "codemirror_mode": {
    "name": "ipython",
    "version": 3
   },
   "file_extension": ".py",
   "mimetype": "text/x-python",
   "name": "python",
   "nbconvert_exporter": "python",
   "pygments_lexer": "ipython3",
   "version": "3.8.5"
  }
 },
 "nbformat": 4,
 "nbformat_minor": 4
}
